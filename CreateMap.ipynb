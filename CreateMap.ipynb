{
 "cells": [
  {
   "cell_type": "code",
   "execution_count": 4,
   "metadata": {},
   "outputs": [],
   "source": [
    "import matplotlib\n",
    "import ast\n",
    "\n",
    "with open(\"tes.txt\", \"r\") as file:\n",
    "    # Convert the string representation of a list to an actual list\n",
    "    content = file.read()\n",
    "    numbers = ast.literal_eval(content)"
   ]
  },
  {
   "cell_type": "code",
   "execution_count": 7,
   "metadata": {},
   "outputs": [
    {
     "name": "stdout",
     "output_type": "stream",
     "text": [
      "(0, 0, 192)\n"
     ]
    }
   ],
   "source": [
    "coordinates = [(numbers[i], numbers[i+1], numbers[i+2]) for i in range(0, len(numbers), 3)]\n",
    "print(coordinates[0])"
   ]
  }
 ],
 "metadata": {
  "kernelspec": {
   "display_name": "Python 3",
   "language": "python",
   "name": "python3"
  },
  "language_info": {
   "codemirror_mode": {
    "name": "ipython",
    "version": 3
   },
   "file_extension": ".py",
   "mimetype": "text/x-python",
   "name": "python",
   "nbconvert_exporter": "python",
   "pygments_lexer": "ipython3",
   "version": "3.8.10"
  }
 },
 "nbformat": 4,
 "nbformat_minor": 2
}
